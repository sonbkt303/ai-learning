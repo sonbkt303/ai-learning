{
 "cells": [
  {
   "cell_type": "markdown",
   "id": "9ae71cf7",
   "metadata": {},
   "source": [
    "# Jupyter Notebook Setup Guide\n",
    "\n",
    "This guide will help you install Jupyter Notebook and resolve the 'jupyter: command not found' error. We'll cover multiple installation methods and verify that everything is working correctly."
   ]
  },
  {
   "cell_type": "markdown",
   "id": "1869bbf7",
   "metadata": {},
   "source": [
    "## 1. Check Python Installation\n",
    "\n",
    "First, let's verify that Python is properly installed on your system and check the version."
   ]
  },
  {
   "cell_type": "code",
   "execution_count": 4,
   "id": "08d31831",
   "metadata": {},
   "outputs": [
    {
     "name": "stdout",
     "output_type": "stream",
     "text": [
      "Python version: 3.12.6 (tags/v3.12.6:a4a2d2b, Sep  6 2024, 20:11:23) [MSC v.1940 64 bit (AMD64)]\n",
      "Python executable: c:\\Users\\EVN0031\\Desktop\\Ewoosoft\\learning\\ai-learning\\venv\\Scripts\\python.exe\n",
      "Pip version: \n"
     ]
    }
   ],
   "source": [
    "import sys\n",
    "import subprocess\n",
    "\n",
    "# Check Python version\n",
    "print(\"Python version:\", sys.version)\n",
    "print(\"Python executable:\", sys.executable)\n",
    "\n",
    "# Check if pip is available\n",
    "try:\n",
    "    result = subprocess.run(['pip', '--version'], capture_output=True, text=True)\n",
    "    print(\"Pip version:\", result.stdout.strip())\n",
    "except FileNotFoundError:\n",
    "    print(\"Pip is not available\")"
   ]
  },
  {
   "cell_type": "markdown",
   "id": "162e117b",
   "metadata": {},
   "source": [
    "## 2. Install Jupyter Notebook Using pip\n",
    "\n",
    "The most common way to install Jupyter Notebook is using pip, Python's package installer."
   ]
  },
  {
   "cell_type": "code",
   "execution_count": 6,
   "id": "74a65055",
   "metadata": {},
   "outputs": [],
   "source": [
    "# Install Jupyter Notebook using pip\n",
    "# Run this command in your terminal or command prompt:\n",
    "# pip install jupyter\n",
    "\n",
    "# Or if you're using a virtual environment (recommended):\n",
    "# 1. Create virtual environment: python -m venv venv\n",
    "# 2. Activate it: \n",
    "#    - Windows: venv\\Scripts\\activate\n",
    "#    - macOS/Linux: source venv/bin/activate\n",
    "# 3. Install jupyter: pip install jupyter\n",
    "\n",
    "import subprocess\n",
    "import sys\n",
    "\n",
    "def install_jupyter():\n",
    "    \"\"\"Install Jupyter using pip\"\"\"\n",
    "    try:\n",
    "        subprocess.check_call([sys.executable, \"-m\", \"pip\", \"install\", \"jupyter\"])\n",
    "        print(\"Jupyter installed successfully!\")\n",
    "    except subprocess.CalledProcessError as e:\n",
    "        print(f\"Error installing Jupyter: {e}\")\n",
    "\n",
    "# Uncomment the line below to install Jupyter\n",
    "# install_jupyter()"
   ]
  },
  {
   "cell_type": "markdown",
   "id": "6463d35a",
   "metadata": {},
   "source": [
    "## 3. Install Jupyter Notebook Using conda\n",
    "\n",
    "If you're using Anaconda or Miniconda, you can install Jupyter using conda package manager."
   ]
  },
  {
   "cell_type": "code",
   "execution_count": 7,
   "id": "dc7b548d",
   "metadata": {},
   "outputs": [
    {
     "name": "stdout",
     "output_type": "stream",
     "text": [
      "To install with conda, run one of these commands in your terminal:\n",
      "conda install -c conda-forge jupyter\n",
      "OR\n",
      "conda install jupyter\n"
     ]
    }
   ],
   "source": [
    "# Install Jupyter Notebook using conda\n",
    "# Run these commands in your terminal:\n",
    "\n",
    "# Option 1: Install from conda-forge (recommended)\n",
    "# conda install -c conda-forge jupyter\n",
    "\n",
    "# Option 2: Install from default conda channel\n",
    "# conda install jupyter\n",
    "\n",
    "# Create a new conda environment with Jupyter (recommended)\n",
    "# conda create -n jupyter-env python=3.12 jupyter\n",
    "# conda activate jupyter-env\n",
    "\n",
    "print(\"To install with conda, run one of these commands in your terminal:\")\n",
    "print(\"conda install -c conda-forge jupyter\")\n",
    "print(\"OR\")\n",
    "print(\"conda install jupyter\")"
   ]
  },
  {
   "cell_type": "markdown",
   "id": "c3b2effd",
   "metadata": {},
   "source": [
    "## 4. Verify Jupyter Installation\n",
    "\n",
    "After installing Jupyter, let's verify that it was installed correctly and check the available commands."
   ]
  },
  {
   "cell_type": "code",
   "execution_count": 8,
   "id": "80d88b4f",
   "metadata": {},
   "outputs": [
    {
     "name": "stdout",
     "output_type": "stream",
     "text": [
      "✓ Jupyter module is available\n",
      "Jupyter location: c:\\Users\\EVN0031\\Desktop\\Ewoosoft\\learning\\ai-learning\\venv\\Lib\\site-packages\\jupyter.py\n",
      "✓ Jupyter command is working\n",
      "Jupyter version info:\n",
      "Selected Jupyter core packages...\n",
      "IPython          : 9.6.0\n",
      "ipykernel        : 7.1.0\n",
      "ipywidgets       : 8.1.7\n",
      "jupyter_client   : 8.6.3\n",
      "jupyter_core     : 5.9.1\n",
      "jupyter_server   : 2.17.0\n",
      "jupyterlab       : 4.4.10\n",
      "nbclient         : 0.10.2\n",
      "nbconvert        : 7.16.6\n",
      "nbformat         : 5.10.4\n",
      "notebook         : 7.4.7\n",
      "qtconsole        : not installed\n",
      "traitlets        : 5.14.3\n",
      "\n",
      "✓ Jupyter command is working\n",
      "Jupyter version info:\n",
      "Selected Jupyter core packages...\n",
      "IPython          : 9.6.0\n",
      "ipykernel        : 7.1.0\n",
      "ipywidgets       : 8.1.7\n",
      "jupyter_client   : 8.6.3\n",
      "jupyter_core     : 5.9.1\n",
      "jupyter_server   : 2.17.0\n",
      "jupyterlab       : 4.4.10\n",
      "nbclient         : 0.10.2\n",
      "nbconvert        : 7.16.6\n",
      "nbformat         : 5.10.4\n",
      "notebook         : 7.4.7\n",
      "qtconsole        : not installed\n",
      "traitlets        : 5.14.3\n",
      "\n",
      "✓ Jupyter help is available\n",
      "✓ Jupyter help is available\n"
     ]
    }
   ],
   "source": [
    "import subprocess\n",
    "import sys\n",
    "\n",
    "def check_jupyter_installation():\n",
    "    \"\"\"Check if Jupyter is properly installed\"\"\"\n",
    "    \n",
    "    # Check if jupyter module is available\n",
    "    try:\n",
    "        import jupyter\n",
    "        print(\"✓ Jupyter module is available\")\n",
    "        print(f\"Jupyter location: {jupyter.__file__}\")\n",
    "    except ImportError:\n",
    "        print(\"✗ Jupyter module not found\")\n",
    "        return False\n",
    "    \n",
    "    # Check jupyter command version\n",
    "    try:\n",
    "        result = subprocess.run([sys.executable, \"-m\", \"jupyter\", \"--version\"], \n",
    "                              capture_output=True, text=True, timeout=10)\n",
    "        if result.returncode == 0:\n",
    "            print(\"✓ Jupyter command is working\")\n",
    "            print(\"Jupyter version info:\")\n",
    "            print(result.stdout)\n",
    "        else:\n",
    "            print(\"✗ Jupyter command failed\")\n",
    "            print(result.stderr)\n",
    "    except (subprocess.TimeoutExpired, FileNotFoundError) as e:\n",
    "        print(f\"✗ Error running jupyter command: {e}\")\n",
    "    \n",
    "    # Check available jupyter subcommands\n",
    "    try:\n",
    "        result = subprocess.run([sys.executable, \"-m\", \"jupyter\", \"--help\"], \n",
    "                              capture_output=True, text=True, timeout=10)\n",
    "        if result.returncode == 0:\n",
    "            print(\"✓ Jupyter help is available\")\n",
    "            # Extract available subcommands\n",
    "            lines = result.stdout.split('\\n')\n",
    "            in_subcommands = False\n",
    "            subcommands = []\n",
    "            for line in lines:\n",
    "                if 'Available subcommands:' in line:\n",
    "                    in_subcommands = True\n",
    "                    continue\n",
    "                if in_subcommands and line.strip():\n",
    "                    if not line.startswith(' '):\n",
    "                        break\n",
    "                    subcommands.append(line.strip())\n",
    "            \n",
    "            if subcommands:\n",
    "                print(\"Available Jupyter subcommands:\")\n",
    "                for cmd in subcommands[:10]:  # Show first 10\n",
    "                    print(f\"  - {cmd}\")\n",
    "    except Exception as e:\n",
    "        print(f\"✗ Error getting jupyter help: {e}\")\n",
    "\n",
    "# Run the verification\n",
    "check_jupyter_installation()"
   ]
  },
  {
   "cell_type": "markdown",
   "id": "01d6f91a",
   "metadata": {},
   "source": [
    "## 5. Launch Jupyter Notebook\n",
    "\n",
    "Now that Jupyter is installed, let's learn how to start the Jupyter Notebook server and access the web interface."
   ]
  },
  {
   "cell_type": "code",
   "execution_count": null,
   "id": "8e2883e1",
   "metadata": {},
   "outputs": [],
   "source": [
    "# Different ways to launch Jupyter Notebook:\n",
    "\n",
    "print(\"To launch Jupyter Notebook, use one of these commands in your terminal:\")\n",
    "print()\n",
    "print(\"1. Basic launch:\")\n",
    "print(\"   jupyter notebook\")\n",
    "print()\n",
    "print(\"2. Launch with specific options:\")\n",
    "print(\"   jupyter notebook --no-browser --port=8888\")\n",
    "print()\n",
    "print(\"3. Launch using Python module (if 'jupyter' command not found):\")\n",
    "print(\"   python -m jupyter notebook\")\n",
    "print()\n",
    "print(\"4. Launch in a specific directory:\")\n",
    "print(\"   cd /path/to/your/project\")\n",
    "print(\"   jupyter notebook\")\n",
    "print()\n",
    "print(\"5. Launch with custom configuration:\")\n",
    "print(\"   jupyter notebook --ip=127.0.0.1 --port=8889 --no-browser\")\n",
    "print()\n",
    "\n",
    "# For Windows users with virtual environment:\n",
    "print(\"For Windows with virtual environment:\")\n",
    "print(\"1. Activate your virtual environment:\")\n",
    "print(\"   venv\\\\Scripts\\\\activate\")\n",
    "print(\"2. Launch Jupyter:\")\n",
    "print(\"   jupyter notebook\")\n",
    "print()\n",
    "\n",
    "# Alternative launch methods if 'jupyter' command is not found\n",
    "print(\"If 'jupyter: command not found', try these alternatives:\")\n",
    "print(\"- python -m jupyter notebook\")\n",
    "print(\"- python -m notebook\")\n",
    "print(\"- Check if Jupyter is in your PATH\")\n",
    "print(\"- Reinstall Jupyter: pip install --upgrade jupyter\")"
   ]
  },
  {
   "cell_type": "markdown",
   "id": "afe50567",
   "metadata": {},
   "source": [
    "## 6. Create Your First Notebook\n",
    "\n",
    "Once Jupyter Notebook is running, you can create new notebooks and start coding. Let's demonstrate some basic operations."
   ]
  },
  {
   "cell_type": "code",
   "execution_count": 2,
   "id": "51dbadf8",
   "metadata": {},
   "outputs": [
    {
     "name": "stdout",
     "output_type": "stream",
     "text": [
      "Hello, Jupyter!\n",
      "Python version: 3.12.6 (tags/v3.12.6:a4a2d2b, Sep  6 2024, 20:11:23) [MSC v.1940 64 bit (AMD64)]\n",
      "\n",
      "Sample DataFrame:\n",
      "      Name  Age  Score\n",
      "0    Alice   25     95\n",
      "1      Bob   30     87\n",
      "2  Charlie   35     92\n",
      "3    Diana   28     98\n",
      "\n",
      "Average age: 29.5\n",
      "Average score: 93.0\n"
     ]
    }
   ],
   "source": [
    "# Welcome to your first Jupyter Notebook!\n",
    "# This cell demonstrates basic Python operations\n",
    "\n",
    "# Import common data science libraries\n",
    "import pandas as pd\n",
    "import numpy as np\n",
    "import matplotlib.pyplot as plt\n",
    "\n",
    "# Basic Python operations\n",
    "print(\"Hello, Jupyter!\")\n",
    "print(f\"Python version: {sys.version}\")\n",
    "\n",
    "# Create some sample data\n",
    "data = {\n",
    "    'Name': ['Alice', 'Bob', 'Charlie', 'Diana'],\n",
    "    'Age': [25, 30, 35, 28],\n",
    "    'Score': [95, 87, 92, 98]\n",
    "}\n",
    "\n",
    "# Create a DataFrame\n",
    "df = pd.DataFrame(data)\n",
    "print(\"\\nSample DataFrame:\")\n",
    "print(df)\n",
    "\n",
    "# Basic statistics\n",
    "print(f\"\\nAverage age: {df['Age'].mean()}\")\n",
    "print(f\"Average score: {df['Score'].mean()}\")"
   ]
  },
  {
   "cell_type": "markdown",
   "id": "953de7ee",
   "metadata": {},
   "source": [
    "## 7. Basic Notebook Operations\n",
    "\n",
    "Here are the essential operations you need to know when working with Jupyter Notebooks:\n",
    "\n",
    "### Cell Types:\n",
    "- **Code cells**: Execute Python code\n",
    "- **Markdown cells**: Write formatted text, documentation\n",
    "- **Raw cells**: Plain text (rarely used)\n",
    "\n",
    "### Keyboard Shortcuts:\n",
    "- **Shift + Enter**: Run current cell and move to next\n",
    "- **Ctrl + Enter**: Run current cell and stay\n",
    "- **Alt + Enter**: Run current cell and insert new cell below\n",
    "- **A**: Insert cell above (in command mode)\n",
    "- **B**: Insert cell below (in command mode)\n",
    "- **DD**: Delete current cell (in command mode)\n",
    "- **M**: Change cell to Markdown (in command mode)\n",
    "- **Y**: Change cell to Code (in command mode)\n",
    "- **Esc**: Enter command mode\n",
    "- **Enter**: Enter edit mode\n",
    "\n",
    "### Important Tips:\n",
    "1. Save frequently: **Ctrl + S**\n",
    "2. Use meaningful variable names\n",
    "3. Add markdown cells to document your analysis\n",
    "4. Keep cells focused on single tasks\n",
    "5. Restart kernel if variables get messy: **Kernel → Restart**"
   ]
  },
  {
   "cell_type": "code",
   "execution_count": 3,
   "id": "ddb3b809",
   "metadata": {},
   "outputs": [
    {
     "data": {
      "image/png": "[encoded data removed]",
      "text/plain": [
       "<Figure size 1000x600 with 1 Axes>"
      ]
     },
     "metadata": {},
     "output_type": "display_data"
    },
    {
     "name": "stdout",
     "output_type": "stream",
     "text": [
      "Congratulations! You've created your first plot in Jupyter Notebook!\n"
     ]
    }
   ],
   "source": [
    "# Practice: Create a simple visualization\n",
    "import matplotlib.pyplot as plt\n",
    "import numpy as np\n",
    "\n",
    "# Generate sample data\n",
    "x = np.linspace(0, 10, 100)\n",
    "y = np.sin(x)\n",
    "z = np.cos(x)\n",
    "\n",
    "# Create a plot\n",
    "plt.figure(figsize=(10, 6))\n",
    "plt.plot(x, y, label='sin(x)', linewidth=2)\n",
    "plt.plot(x, z, label='cos(x)', linewidth=2)\n",
    "plt.xlabel('x')\n",
    "plt.ylabel('y')\n",
    "plt.title('Sine and Cosine Functions')\n",
    "plt.legend()\n",
    "plt.grid(True, alpha=0.3)\n",
    "plt.show()\n",
    "\n",
    "print(\"Congratulations! You've created your first plot in Jupyter Notebook!\")"
   ]
  }
 ],
 "metadata": {
  "kernelspec": {
   "display_name": "venv",
   "language": "python",
   "name": "python3"
  },
  "language_info": {
   "codemirror_mode": {
    "name": "ipython",
    "version": 3
   },
   "file_extension": ".py",
   "mimetype": "text/x-python",
   "name": "python",
   "nbconvert_exporter": "python",
   "pygments_lexer": "ipython3",
   "version": "3.12.6"
  }
 },
 "nbformat": 4,
 "nbformat_minor": 5
}
