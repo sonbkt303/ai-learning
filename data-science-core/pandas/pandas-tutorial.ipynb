{
 "cells": [
  {
   "cell_type": "markdown",
   "id": "7916cc4e",
   "metadata": {},
   "source": [
    "# Creating, Reading and Writing"
   ]
  },
  {
   "cell_type": "code",
   "execution_count": 4,
   "id": "0b68fa0b",
   "metadata": {},
   "outputs": [
    {
     "name": "stdout",
     "output_type": "stream",
     "text": [
      "Pandas Series:\n",
      " 0    1\n",
      "1    2\n",
      "2    3\n",
      "3    4\n",
      "4    5\n",
      "dtype: int64\n"
     ]
    }
   ],
   "source": [
    "import pandas as pd\n",
    "\n",
    "# Creating a Series\n",
    "series = pd.Series([1, 2, 3, 4, 5])\n",
    "print(\"Pandas Series:\\n\", series)"
   ]
  },
  {
   "cell_type": "code",
   "execution_count": 3,
   "id": "1b4fa5a6",
   "metadata": {},
   "outputs": [
    {
     "name": "stdout",
     "output_type": "stream",
     "text": [
      "\n",
      "Pandas DataFrame:\n",
      "              Bob           Sue\n",
      "0    I liked it.  Pretty good.\n",
      "1  It was awful.        Bland.\n"
     ]
    }
   ],
   "source": [
    "\n",
    "# Creating a DataFrame\n",
    "data_frame = pd.DataFrame(\n",
    "    {\"Bob\": [\"I liked it.\", \"It was awful.\"], \"Sue\": [\"Pretty good.\", \"Bland.\"]}\n",
    ")\n",
    "\n",
    "print(\"\\nPandas DataFrame:\\n\", data_frame)"
   ]
  }
 ],
 "metadata": {
  "kernelspec": {
   "display_name": "venv",
   "language": "python",
   "name": "python3"
  },
  "language_info": {
   "codemirror_mode": {
    "name": "ipython",
    "version": 3
   },
   "file_extension": ".py",
   "mimetype": "text/x-python",
   "name": "python",
   "nbconvert_exporter": "python",
   "pygments_lexer": "ipython3",
   "version": "3.12.6"
  }
 },
 "nbformat": 4,
 "nbformat_minor": 5
}
