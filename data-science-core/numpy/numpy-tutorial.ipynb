{
 "cells": [
  {
   "cell_type": "markdown",
   "id": "610679f3",
   "metadata": {},
   "source": [
    "# NumPy Tutorial - Complete Guide\n",
    "\n",
    "**NumPy** (Numerical Python) is the fundamental package for scientific computing in Python. It provides:\n",
    "- Powerful N-dimensional array objects\n",
    "- Sophisticated broadcasting functions\n",
    "- Tools for integrating C/C++ and Fortran code\n",
    "- Useful linear algebra, Fourier transform, and random number capabilities\n",
    "\n",
    "This notebook covers everything from basics to advanced NumPy operations."
   ]
  },
  {
   "cell_type": "markdown",
   "id": "08c72ec5",
   "metadata": {},
   "source": [
    "\n",
    "<!-- @import \"[TOC]\" {cmd=\"toc\" depthFrom=1 depthTo=6 orderedList=false} -->\n"
   ]
  },
  {
   "cell_type": "markdown",
   "id": "5c3f4014",
   "metadata": {},
   "source": [
    "## Exercise 1. Import numpy as np and see the version\n",
    "\n",
    "First, let's install NumPy (if needed) and import it with the standard convention."
   ]
  },
  {
   "cell_type": "code",
   "execution_count": 26,
   "id": "22d1cd18",
   "metadata": {},
   "outputs": [
    {
     "name": "stdout",
     "output_type": "stream",
     "text": [
      "NumPy version: 2.3.4\n",
      "\n",
      "NumPy is imported successfully!\n",
      "NumPy location: c:\\Users\\EVN0031\\Desktop\\Ewoosoft\\learning\\ai-learning\\venv\\Lib\\site-packages\\numpy\\__init__.py\n"
     ]
    }
   ],
   "source": [
    "# Install NumPy (if not already installed)\n",
    "# !pip install numpy\n",
    "\n",
    "# Import NumPy with standard convention\n",
    "import numpy as np\n",
    "\n",
    "# Check NumPy version\n",
    "print(f\"NumPy version: {np.__version__}\")\n",
    "\n",
    "# Check available functions\n",
    "print(f\"\\nNumPy is imported successfully!\")\n",
    "print(f\"NumPy location: {np.__file__}\")"
   ]
  },
  {
   "cell_type": "markdown",
   "id": "f112418b",
   "metadata": {},
   "source": [
    "## Exercise 2. How to create a 1D array?\n",
    "Question : Create a 1D array of numbers from 0 to 9"
   ]
  },
  {
   "cell_type": "code",
   "execution_count": 27,
   "id": "45697349",
   "metadata": {},
   "outputs": [
    {
     "name": "stdout",
     "output_type": "stream",
     "text": [
      "Array numpy number [0 1 2 3 4 5 6 7 8 9]\n"
     ]
    }
   ],
   "source": [
    "import numpy as np\n",
    "\n",
    "# Create a NumPy array using arange\n",
    "np_range = np.arange(10)\n",
    "print(\"Array numpy number\", np_range)"
   ]
  },
  {
   "cell_type": "markdown",
   "id": "99a6f59e",
   "metadata": {},
   "source": [
    "## Exercise 3. How to create a boolean array?\n",
    "Question : Create a 3×3 numpy array of all True’s\n"
   ]
  },
  {
   "cell_type": "code",
   "execution_count": 28,
   "id": "8e5d7c25",
   "metadata": {},
   "outputs": [
    {
     "name": "stdout",
     "output_type": "stream",
     "text": [
      "Boolean array:\n",
      " [[ True  True  True]\n",
      " [ True  True  True]\n",
      " [ True  True  True]]\n"
     ]
    }
   ],
   "source": [
    "arr = np.full((3, 3), True)\n",
    "\n",
    "print(\"Boolean array:\\n\", arr)"
   ]
  },
  {
   "cell_type": "markdown",
   "id": "e59359a8",
   "metadata": {},
   "source": [
    "## Exercise 4. How to extract items that satisfy a given condition from 1D array?\n",
    "Question : Extract all odd numbers from array"
   ]
  },
  {
   "cell_type": "code",
   "execution_count": 29,
   "id": "fb240b14",
   "metadata": {},
   "outputs": [
    {
     "name": "stdout",
     "output_type": "stream",
     "text": [
      "Odd numbers: [1 3 5 7 9]\n"
     ]
    }
   ],
   "source": [
    "# Question : Extract all odd numbers from array\n",
    "# input: arr = np.array([0, 1, 2, 3, 4, 5, 6, 7, 8, 9])\n",
    "# output: array([1, 3, 5, 7, 9])\n",
    "\n",
    "# Solution\n",
    "arr = np.array([0, 1, 2, 3, 4, 5, 6, 7, 8, 9])\n",
    "odd_numbers = arr[arr % 2 == 1]\n",
    "print(\"Odd numbers:\", odd_numbers)"
   ]
  },
  {
   "cell_type": "markdown",
   "id": "b7abd665",
   "metadata": {},
   "source": [
    "## Exercise 5. How to replace items that satisfy a condition with another value in numpy array?\n",
    "Question : Replace all odd numbers in arr with -1"
   ]
  },
  {
   "cell_type": "code",
   "execution_count": 30,
   "id": "2a27caee",
   "metadata": {},
   "outputs": [
    {
     "data": {
      "text/plain": [
       "array([[0, 1, 2, 3, 4],\n",
       "       [5, 6, 7, 8, 9]])"
      ]
     },
     "execution_count": 30,
     "metadata": {},
     "output_type": "execute_result"
    }
   ],
   "source": [
    "# Question: Convert a 1D array to a 2D array with 2 rows\n",
    "# input: np.arange(10)\n",
    "# output array([[0, 1, 2, 3, 4],\n",
    "#               [5, 6, 7, 8, 9]])\n",
    "\n",
    "# Solution\n",
    "\n",
    "arr = np.arange(10)\n",
    "arr.reshape(2, 5)\n",
    "\n",
    "# Another solution\n",
    "arr = np.arange(10)\n",
    "arr.reshape(2, -1)  # Setting to -1 automatically decides the number of columns"
   ]
  }
 ],
 "metadata": {
  "kernelspec": {
   "display_name": "Python 3 (ipykernel)",
   "language": "python",
   "name": "python3"
  },
  "language_info": {
   "codemirror_mode": {
    "name": "ipython",
    "version": 3
   },
   "file_extension": ".py",
   "mimetype": "text/x-python",
   "name": "python",
   "nbconvert_exporter": "python",
   "pygments_lexer": "ipython3",
   "version": "3.12.6"
  }
 },
 "nbformat": 4,
 "nbformat_minor": 5
}
