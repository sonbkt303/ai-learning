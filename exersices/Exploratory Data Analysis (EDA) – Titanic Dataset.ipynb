{
 "cells": [
  {
   "cell_type": "markdown",
   "id": "cd1d58ca",
   "metadata": {},
   "source": [
    "# Exploratory Data Analysis (EDA) – Titanic Dataset\n",
    "<!-- @import \"[TOC]\" {cmd=\"toc\" depthFrom=1 depthTo=6 orderedList=false} -->\n",
    "## Introduction\n",
    "The Titanic dataset is a classic dataset used for machine learning and data analysis. It contains information about the passengers aboard the Titanic, including whether they survived or not. In this notebook, we will perform exploratory data analysis (EDA) on the Titanic dataset to uncover patterns and insights."
   ]
  },
  {
   "cell_type": "code",
   "execution_count": null,
   "id": "f2546d37",
   "metadata": {},
   "outputs": [],
   "source": [
    "import pandas as pd\n",
    "import numpy as np\n",
    "import matplotlib.pyplot as plt\n",
    "import seaborn as sns\n",
    "\n",
    "# Hiển thị biểu đồ đẹp hơn\n",
    "sns.set(style=\"whitegrid\")\n",
    "\n",
    "# Load the Titanic dataset\n",
    "df = pd.read_csv(\"./dataset/train.csv\")"
   ]
  },
  {
   "cell_type": "markdown",
   "id": "922989b1",
   "metadata": {},
   "source": [
    "## Step 1: Overview of the Dataset"
   ]
  },
  {
   "cell_type": "code",
   "execution_count": null,
   "id": "9e8b9c78",
   "metadata": {},
   "outputs": [],
   "source": [
    "\n",
    "shape = df.shape\n",
    "info = df.info()\n",
    "statistics = df.describe()\n",
    "columns = df.columns\n",
    "print(f\"Dataset shape: {shape}\")\n",
    "print(f\"Dataset info: {info}\")\n",
    "print(f\"Dataset statistics:\\n\", statistics)\n",
    "print(f\"Dataset columns:\\n\", columns)\n"
   ]
  },
  {
   "cell_type": "markdown",
   "id": "ead3f330",
   "metadata": {},
   "source": [
    "## Step 2: Data Cleaning and Preprocessing"
   ]
  },
  {
   "cell_type": "code",
   "execution_count": 31,
   "id": "3795abe2",
   "metadata": {},
   "outputs": [
    {
     "name": "stdout",
     "output_type": "stream",
     "text": [
      "Median Age: 28.0\n",
      "Mode Embarked: S\n",
      "Cabin Binary:\n",
      "Cabin\n",
      "0    687\n",
      "1    204\n",
      "Name: count, dtype: int64\n"
     ]
    }
   ],
   "source": [
    "# Handle missing values\n",
    "df.isnull().sum()\n",
    "age_median = df['Age'].median()\n",
    "embarked_mode = df['Embarked'].mode()[0]\n",
    "cabin_binary = df[\"Cabin\"].apply(lambda x: 0 if pd.isna(x) else 1)\n",
    "\n",
    "print(f\"Median Age: {age_median}\")\n",
    "print(f\"Mode Embarked: {embarked_mode}\")\n",
    "print(f\"Cabin Binary:\\n{cabin_binary.value_counts()}\")"
   ]
  }
 ],
 "metadata": {
  "kernelspec": {
   "display_name": "venv",
   "language": "python",
   "name": "python3"
  },
  "language_info": {
   "codemirror_mode": {
    "name": "ipython",
    "version": 3
   },
   "file_extension": ".py",
   "mimetype": "text/x-python",
   "name": "python",
   "nbconvert_exporter": "python",
   "pygments_lexer": "ipython3",
   "version": "3.12.6"
  }
 },
 "nbformat": 4,
 "nbformat_minor": 5
}
